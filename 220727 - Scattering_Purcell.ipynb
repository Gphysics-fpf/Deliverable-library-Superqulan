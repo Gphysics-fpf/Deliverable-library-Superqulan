{
 "cells": [
  {
   "cell_type": "code",
   "execution_count": null,
   "metadata": {},
   "outputs": [],
   "source": [
    "import numpy as np \n",
    "from numpy import floor, sqrt\n",
    "import scipy.sparse.linalg\n",
    "from matplotlib.gridspec import GridSpec\n",
    "from math import pi as π\n",
    "import scipy.sparse as sp\n",
    "import matplotlib.pyplot as plt\n",
    "from bosons import (\n",
    "    construct_basis,\n",
    "    move_excitation_operator,\n",
    "    diagonals_with_energies,\n",
    "    concatenate_bases,\n",
    "    erase,\n",
    ")\n",
    "from waveguide import Waveguide\n",
    "import sympy as sym\n",
    "from simulator import Trotter_solver_dynamics\n",
    "from architecture import Exp_2qubits_2cavities_2purcells\n",
    "#matplotlib widget"
   ]
  },
  {
   "cell_type": "markdown",
   "metadata": {
    "tags": []
   },
   "source": [
    "## Phase profile of the two resonances"
   ]
  },
  {
   "cell_type": "markdown",
   "metadata": {},
   "source": [
    "We know from the theory that when two harmonic oscillators are coupled together their shared frequencies split. In this notebook we want to check wether this is happening in our setup and if the simulation with discrete Waveguide modes matches the theory derived from input-output."
   ]
  },
  {
   "cell_type": "code",
   "execution_count": null,
   "metadata": {},
   "outputs": [],
   "source": [
    "def step_photon(mmax: int) -> np.ndarray: \n",
    "    \"\"\"Creates a flat photon, that is, an equiprobable distribution of all the modes \n",
    "    of the waveguide.\n",
    "\n",
    "    Args:\n",
    "        mmax (int): number of modes in the WG.\n",
    "\n",
    "    Returns:\n",
    "        photon (np.ndarray)\n",
    "    \"\"\"\n",
    "    γ1 = np.ones(mmax+6)\n",
    "    γ1[:4] = 0\n",
    "    γ1 = γ1/np.sqrt(mmax)\n",
    "    return γ1"
   ]
  },
  {
   "cell_type": "code",
   "execution_count": null,
   "metadata": {},
   "outputs": [],
   "source": [
    "def flat_photon_scattering(ω1=2*π*8.40701933547913, ω2=2*π*8.40701933547913,  g_p=2*π*25e-3, κ2 = 2*π*130e-3,\n",
    " length=30, modes=2101):\n",
    "    \n",
    "    \"\"\"computes the scattering of a flat photon that bounces off two \n",
    "    coupled harmonic oscillators..\n",
    "\n",
    "    Args:\n",
    "        ω1 (int): \n",
    "        ω2 (int): \n",
    "        g_p (int):\n",
    "        κ2 (int): \n",
    "        length (int): \n",
    "        modes (int): \n",
    "\n",
    "    Returns:\n",
    "        WG.frequencies (sp.csr_matrix): Matrix representation of the quantum operator\n",
    "        phases ():   \n",
    "    \"\"\"\n",
    "\n",
    "    \n",
    "    WG =  Waveguide( frequency= ω1, modes = modes, length = length )\n",
    "\n",
    "    control = Exp_2qubits_2cavities_2purcells(ω1 = ω1, ω2 = ω2, g1=0, g2=0,  \n",
    "                                                 gp1=g_p, gp2=g_p, κ1=0, κ2=κ2,\n",
    "                                                 waveguide = WG)\n",
    "    \n",
    "    duration = 2*WG.tprop\n",
    "    \n",
    "    v0 = step_photon(modes)\n",
    "    \n",
    "    vt2 = scipy.sparse.linalg.expm_multiply(-1j * duration * control.Hamiltonian(), v0)  \n",
    "    \n",
    "    phases = np.angle(step_photon(modes)[6:]*vt2[6:]*np.exp(1j * WG.frequencies * duration))/π\n",
    "    \n",
    "    return WG.frequencies, phases, control.κ2*1e-9, control.ω2"
   ]
  },
  {
   "cell_type": "code",
   "execution_count": null,
   "metadata": {},
   "outputs": [],
   "source": [
    "κ1 = 2*π*130e-3\n",
    "g_p=2*π*25e-3\n",
    "\n",
    "scattering_30m = flat_photon_scattering(g_p=g_p, modes=500)\n",
    "ω_difference = scattering_30m[0]-scattering_30m[3]\n",
    "\n",
    "phitheo = np.real(-1j*np.log( ((1j*( ω_difference + g_p )+(κ1/4))) / (1j*(ω_difference +g_p)-(κ1/4)) *     ((1j*(ω_difference - g_p) + (κ1/4))) / (1j*(ω_difference - g_p) - (κ1/4))   ) /π)\n"
   ]
  },
  {
   "cell_type": "code",
   "execution_count": null,
   "metadata": {},
   "outputs": [],
   "source": [
    "grid = {'hspace': 0.8, 'wspace': 0.5}\n",
    "fig, (ax1) = plt.subplots(nrows=1, ncols=1, figsize=(13, 6), constrained_layout=True)\n",
    "# plt.rcParams.update({'font.size': 35})\n",
    "\n",
    "ax1.scatter((scattering_30m[0]-scattering_30m[3]), scattering_30m[1], s=20, color = 'tab:blue', label='Simulation')\n",
    "ax1.plot((scattering_30m[0]-scattering_30m[3]), phitheo, color = 'tab:orange', label='theory')\n",
    "\n",
    "ax1.set_xlabel('$\\omega - \\Omega_{R_2}$')\n",
    "\n",
    "ax1.set_ylabel('$\\phi/\\pi$')\n",
    "ax1.legend()"
   ]
  },
  {
   "cell_type": "code",
   "execution_count": null,
   "metadata": {},
   "outputs": [],
   "source": []
  }
 ],
 "metadata": {
  "interpreter": {
   "hash": "ba4bccd244298824c6182e8f70dfa4e992410a2e61a186d3fc707b868beaccc2"
  },
  "kernelspec": {
   "display_name": "Python 3.7.11 ('base')",
   "language": "python",
   "name": "python3"
  },
  "language_info": {
   "codemirror_mode": {
    "name": "ipython",
    "version": 3
   },
   "file_extension": ".py",
   "mimetype": "text/x-python",
   "name": "python",
   "nbconvert_exporter": "python",
   "pygments_lexer": "ipython3",
   "version": "3.7.11"
  }
 },
 "nbformat": 4,
 "nbformat_minor": 4
}
