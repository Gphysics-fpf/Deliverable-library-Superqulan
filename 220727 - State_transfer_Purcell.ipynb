{
 "cells": [
  {
   "cell_type": "code",
   "execution_count": null,
   "metadata": {},
   "outputs": [],
   "source": [
    "import numpy as np \n",
    "from math import pi as π\n",
    "import matplotlib.pyplot as plt\n",
    "from bosons import (\n",
    "    construct_basis,\n",
    "    move_excitation_operator,\n",
    "    diagonals_with_energies,\n",
    "    concatenate_bases,\n",
    "    erase,\n",
    ")\n",
    "from waveguide import Waveguide\n",
    "from simulator import Trotter_solver_dynamics\n",
    "from architecture import Exp_2qubits_2cavities_2purcells\n",
    "%matplotlib widget"
   ]
  },
  {
   "cell_type": "markdown",
   "metadata": {},
   "source": [
    "If we considered a system consisting of just an emitter, a resonator and a decay channel, i.e.,\n",
    "\\begin{align}\n",
    "    \\dot{q}(t)&=-i g(t) c(t)\\\\\n",
    "    \\dot{c}(t)&=-i g(t) q(t)-\\frac{\\kappa}{2}c(t),\n",
    "\\end{align}\n",
    "and wanted to produce a wavepacket of the form \n",
    "\\begin{align}\n",
    "    \\psi(t)=-\\sqrt{\\kappa/4}{\\rm sech}(\\kappa t/2),\n",
    "\\end{align}\n",
    "we would obtain the following time dependent control by reverse-engineering the equations:\n"
   ]
  },
  {
   "cell_type": "markdown",
   "metadata": {},
   "source": [
    "$$ g(t) = \\frac{\\kappa}{2} \\text{sech}\\left(\\kappa t /2\\right) $$"
   ]
  },
  {
   "cell_type": "code",
   "execution_count": null,
   "metadata": {},
   "outputs": [],
   "source": [
    "def gt_sech(t, κ = 2*π*20e-3 ):\n",
    "    \n",
    "    return κ / 2 / np.cosh(κ*t/2)"
   ]
  },
  {
   "cell_type": "markdown",
   "metadata": {},
   "source": [
    "If instead one considers that there is a Purcell filter in between the resonator and the waveguide as it is the case in the ETH setup\n",
    "\\begin{align}\n",
    "    \\dot{q}(t)&=-ig(t) c(t)\\\\\n",
    "    \\dot{c}(t)&=-ig(t) q(t) -ig_p b(t)\\\\\n",
    "    \\dot{b}(t)&=-ig_p c(t)-\\kappa/2 b(t),\n",
    "\\end{align}\n",
    "what one would find for the same proposed photon is the following control:"
   ]
  },
  {
   "cell_type": "markdown",
   "metadata": {},
   "source": [
    "\\begin{align}\n",
    "    g(t)=\\frac{{\\rm sech}^3(\\kappa t/(2\\eta))\\left(4g_p^2\\eta^2-3\\kappa^2+(4g_p^2\\eta^2+\\kappa^2)\\cosh(\\kappa t/\\eta)-\\eta\\kappa^2\\sinh(\\kappa t/\\eta) \\right)}{4\\eta\\left(\\kappa^2{\\rm sech}^4(\\kappa t/(2\\eta))-8 g_p^2\\eta^3(\\tanh(\\kappa t/(2\\eta))-1)-{\\rm sech}^2(\\kappa t/(2\\eta))\\left(\\kappa^2+\\eta^2(4g_p^2+\\kappa^2)-2\\eta\\kappa^2\\tanh(\\kappa t/(2\\eta)) \\right)\\right)^{1/2}}.\n",
    "\\end{align}"
   ]
  },
  {
   "cell_type": "code",
   "execution_count": null,
   "metadata": {},
   "outputs": [],
   "source": [
    "def gt(t, κ = 2*π*20e-3, η = 6.76, g_p = 2*π*25e-3):\n",
    "        \n",
    "    return (((1/np.cosh( κ*t/(2*η) ))**3) * ( 4*g_p**2 * η**2 - 3*κ**2 + (4*g_p**2 * η**2 + κ**2) * np.cosh( κ*t/η ) - η*κ**2 * np.sinh( κ*t/η)))/ \\\n",
    "    (4*η*(κ**2 * ((1/np.cosh( κ*t/(2*η) ))**4) - 8*g_p**2 * η**3 * (np.tanh( κ*t/(2*η) )-1)  -  ((1/np.cosh( κ*t/(2*η) ))**2) * (κ**2 + η**2 * (4*g_p**2 + κ**2) - 2*η*κ**2 * np.tanh( κ*t/(2*η) ) ))**0.5)"
   ]
  },
  {
   "cell_type": "code",
   "execution_count": null,
   "metadata": {},
   "outputs": [],
   "source": [
    "fig, (ax) = plt.subplots(nrows=1, figsize=(3,3), sharex=True)\n",
    "\n",
    "κ_eff = 2*π*130e-3/6.76\n",
    "t = np.linspace(-30/κ_eff, 30/κ_eff, 1000)\n",
    "\n",
    "\n",
    "ax.plot(t*κ_eff, gt_sech(t)/κ_eff )\n",
    "ax.plot(t*κ_eff, gt(t, κ = 2*π*130e-3)/κ_eff )\n",
    "\n",
    "ax.set_xlabel('t * $\\kappa_{eff}$')\n",
    "ax.set_ylabel('$gt / \\kappa_{eff}$')\n",
    "\n",
    "ax.legend()\n",
    "plt.show()\n"
   ]
  },
  {
   "cell_type": "code",
   "execution_count": null,
   "metadata": {},
   "outputs": [],
   "source": [
    "\n",
    "def state_transfer(gt, lamb_shift=1, δ1=2*π*8.40701933547913, δ2=2*π*8.40701933547913,\n",
    "                   ω1=2*π*8.40701933547913, ω2=2*π*8.40701933547913,  g_p=2*π*25e-3,\n",
    "                    kappa=2*π*20e-3, η = 1,\n",
    "                   Tfp=10, Nt=3000, length=30, modes=2101, Nexcitations = 1, tdelay = None,\n",
    "                   quiet=False, filename=None):\n",
    "\n",
    "  \n",
    "    WG =  Waveguide( frequency= ω1+lamb_shift, modes = modes, length = length )\n",
    "    print(WG.tprop)\n",
    "    \n",
    "    ## solve dynamics\n",
    "    \n",
    "    κ_eff = 4 * g_p**2 / kappa\n",
    "    \n",
    "    if tdelay is None:\n",
    "        \n",
    "        tdelay = 1*WG.tprop #separation between protocol g_1(t) and g_2(t) /time reversed. \n",
    "    \n",
    "    else:\n",
    "        tdelay = tdelay\n",
    "    \n",
    "    duration = tdelay + 2 * Tfp*(η/kappa)\n",
    "    time = np.linspace(-duration/2, duration/2, Nt)\n",
    "    \n",
    "        \n",
    "    def g1t(t):\n",
    "        return gt(t + tdelay/2)\n",
    "\n",
    "    def g2t(t):\n",
    "        return gt(tdelay/2 - t)\n",
    "\n",
    "\n",
    "    control = Exp_2qubits_2cavities_2purcells(δ1 = δ1, δ2 = δ2, ω1 = ω1, ω2 = ω2, g1=g1t, g2=g2t,  \n",
    "                                                 gp1=g_p, gp2=g_p, κ1=kappa, κ2=kappa, δLamb = lamb_shift,\n",
    "                                                 waveguide = WG, Nexcitations = Nexcitations)\n",
    "\n",
    "    print('Lamb_shift=',control.E[0]- control.δ1)\n",
    "    print('Frequency of qubit 1=',control.E[0])\n",
    "\n",
    "\n",
    "    #Control initial/final values:\n",
    "    print(f'Initial value of the control g_1(-tf)= (2π)*{g1t(time[0]-tdelay/2)/2/π*1e3}MHz')\n",
    "    print(f'Initial value of the control g_1(-tf)= (2π)*{gt(time[0])/2/π*1e3}MHz')\n",
    "    print('kappa= (2π)',kappa/2/π*1e3,'MHz')    \n",
    "    print('η=', η)\n",
    "    print('g_p= (2π)', g_p/2/π*1e3,'MHz')\n",
    "    print(f'Total time ={duration/WG.tprop}*Propagation_time')\n",
    "\n",
    "\n",
    "    vt = Trotter_solver_dynamics(time, control.qubit_excited(which=0), control.Hamiltonian )\n",
    "    P = np.abs(vt)**2\n",
    "    ## Showing results:\n",
    "    \n",
    "    Pwaveguide = np.sum(P[6:,:],0)\n",
    "    print(f'|q_1(tf)|^2 = {P[0,-1]}\\n'\n",
    "          f'|c_1(tf)|^2 = {P[2,-1]}\\n'\n",
    "          f'|filter_1(tf)|^2 = {P[4,-1]}\\n'\n",
    "          f'|wv(tf)|^2  = {Pwaveguide[-1]} (max = {max(Pwaveguide)})\\n'\n",
    "          f'|filter_2(tf)|^2 = {P[5,-1]}\\n'\n",
    "          f'|c_2(tf)|^2 = {P[3,-1]}\\n'\n",
    "          f'|q_2(tf)|^2 = {P[1,-1]}\\n'\n",
    "          f' 1-F        = {1-P[1,-1]}')\n",
    "    if not quiet:\n",
    "        fig, (ax, axc) = plt.subplots(nrows=2, figsize=(10,8), sharex=True)\n",
    "        ax.plot(time*kappa, P[0,:], label='qubit 1')\n",
    "        ax.plot(time*kappa, P[2,:], '--', label='cavity 1')\n",
    "        ax.plot(time*kappa, P[4,:], '--', label='Purcell 1')\n",
    "\n",
    "        ax.plot(time*kappa, Pwaveguide, '-.', label='waveguide')\n",
    "        \n",
    "        ax.plot(time*kappa, P[5,:], '--', label='Purcell 2')\n",
    "        ax.plot(time*kappa, P[3,:], '--', label='cavity 2')\n",
    "        ax.plot(time*kappa, P[1,:], label='qubit 2')\n",
    "\n",
    "\n",
    "        #ax.set_xlabel(r'$t\\kappa$')\n",
    "        ax.legend(fontsize=16)\n",
    "        ax.set_title(f'$l={length}\\,m,\\,'\n",
    "                     r'\\omega=2\\pi\\times'\n",
    "                     f'{control.ω1/(2*π)}'\n",
    "                     r'\\,\\mathrm{GHz},\\,\\kappa_filter=2\\pi\\times'\n",
    "                     f'{np.round(kappa/(2e-3*π))}'\n",
    "                     r'\\,\\mathrm{MHz},\\,\\kappa_{eff}='\n",
    "                     f'{np.round(kappa/(2e-3*π)/η,3)}$', fontsize=16)\n",
    "        axc.plot(time*kappa, g1t(time)/kappa/η, label=r'$g_1(t)/\\kapp_secha_1$')\n",
    "        axc.plot(time*kappa, g2t(time)/kappa/η, label=r'$g_2(t)/\\kappa_2$')\n",
    "        axc.set_xlabel(r'$t\\kappa_1$')\n",
    "        axc.set_ylabel(r'$g_i(t)/\\kappa_i$')\n",
    "        axc.legend(fontsize=16)\n",
    "        fig.tight_layout()\n",
    "        plt.show()\n",
    "        if filename:\n",
    "            fig.savefig(filename)\n",
    "    \n",
    "    timeres = time/WG.tprop\n",
    "    q1end = P[0,-1]\n",
    "    q2end = P[1,-1]\n",
    "    return q2end, q1end, vt, duration, time, timeres, WG.frequencies"
   ]
  },
  {
   "cell_type": "markdown",
   "metadata": {
    "tags": []
   },
   "source": [
    "## Control derived from qubit-cavity-filter."
   ]
  },
  {
   "cell_type": "code",
   "execution_count": null,
   "metadata": {
    "scrolled": true,
    "tags": []
   },
   "outputs": [],
   "source": [
    "q2end = []\n",
    "Protocol_time = []\n",
    "for i in np.linspace(1, 16, 15):\n",
    "    \n",
    "    q2end_i, _, _, Protocol_time_i, _, _,_ = state_transfer(gt, lamb_shift= (0.0229) * (2*π)*19.231e-3, δ1=2*π*8.40701933547913, δ2=2*π*8.40701933547913,\n",
    "                   ω1=2*π*8.40701933547913, ω2=2*π*8.40701933547913, g_p=2*π*25e-3,\n",
    "                   kappa=2*π*130e-3, η=6.76,\n",
    "                   Tfp=i, Nt=3000, length=30, modes=2101,\n",
    "                   quiet=True, filename=None)\n",
    "    \n",
    "    q2end.append(q2end_i)\n",
    "    Protocol_time.append(Protocol_time_i)"
   ]
  },
  {
   "cell_type": "markdown",
   "metadata": {
    "jp-MarkdownHeadingCollapsed": true,
    "tags": []
   },
   "source": [
    "## Sech control. Derived from qubit-cavity."
   ]
  },
  {
   "cell_type": "code",
   "execution_count": null,
   "metadata": {
    "scrolled": true,
    "tags": []
   },
   "outputs": [],
   "source": [
    "q2end_sech = []\n",
    "Protocol_time = []\n",
    "for i in np.linspace(1, 16, 15):\n",
    "    \n",
    "    q2end_i_sech, _, _, Protocol_time_i_sech, _, _,_ = state_transfer(gt_sech, lamb_shift= (0.0229) * (2*π)*19.231e-3, δ1=2*π*8.40701933547913, δ2=2*π*8.40701933547913,\n",
    "                   ω1=2*π*8.40701933547913, ω2=2*π*8.40701933547913, g_p=2*π*25e-3,\n",
    "                   kappa=2*π*130e-3, η=6.76,\n",
    "                   Tfp=i, Nt=3000, length=30, modes=2101,\n",
    "                   quiet=True, filename=None)\n",
    "    q2end_sech.append(q2end_i_sech)\n",
    "    Protocol_time.append(Protocol_time_i_sech)"
   ]
  },
  {
   "cell_type": "markdown",
   "metadata": {},
   "source": [
    "## Plotting the results"
   ]
  },
  {
   "cell_type": "code",
   "execution_count": null,
   "metadata": {},
   "outputs": [],
   "source": [
    "fig, (ax) = plt.subplots(nrows=1, figsize=(10,4), sharex=True)\n",
    "ax.plot(np.array(Protocol_time), 1-np.array(q2end_sech), label = 'Sech control')\n",
    "ax.plot(np.array(Protocol_time), 1-np.array(q2end), label = 'Exact control')\n",
    "#ax.plot(np.array(Protocol_time_resonant_dressed), 1-np.array(q2end_resonant_dressed), label = 'Exact control dressed')\n",
    "\n",
    "ax.semilogy()\n",
    "ax.axhline(y=1.2e-5, linestyle = ':')\n",
    "ax.legend()\n",
    "ax.set_xlabel('$t(ns)$')\n",
    "ax.set_ylabel('$1-Q2(T)$')\n",
    "\n",
    "plt.show()"
   ]
  }
 ],
 "metadata": {
  "interpreter": {
   "hash": "ba4bccd244298824c6182e8f70dfa4e992410a2e61a186d3fc707b868beaccc2"
  },
  "kernelspec": {
   "display_name": "Python 3.7.11 ('base')",
   "language": "python",
   "name": "python3"
  },
  "language_info": {
   "codemirror_mode": {
    "name": "ipython",
    "version": 3
   },
   "file_extension": ".py",
   "mimetype": "text/x-python",
   "name": "python",
   "nbconvert_exporter": "python",
   "pygments_lexer": "ipython3",
   "version": "3.7.11"
  }
 },
 "nbformat": 4,
 "nbformat_minor": 4
}
