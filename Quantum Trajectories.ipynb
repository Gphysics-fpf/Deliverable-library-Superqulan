{
 "cells": [
  {
   "cell_type": "code",
   "execution_count": 10,
   "metadata": {},
   "outputs": [],
   "source": [
    "import numpy as np\n",
    "from numpy import floor, sqrt\n",
    "import scipy.sparse as sp\n",
    "import scipy.sparse.linalg\n",
    "import matplotlib.pyplot as plt\n",
    "from math import pi as π\n",
    "# import The_clash\n",
    "# get_ipython().run_line_magic('matplotlib', 'widget')\n",
    "from joblib import delayed, Parallel, parallel_backend\n",
    "from Operators_warehouse import construct_basis_superfast, transform_new, diagonals_with_energies, erase\n",
    "from architecture_copy import Exp_2qubits_2cavities_2purcells\n",
    "from waveguide import Waveguide"
   ]
  },
  {
   "cell_type": "markdown",
   "metadata": {},
   "source": [
    "## Survey on quantum trajectories "
   ]
  },
  {
   "cell_type": "markdown",
   "metadata": {},
   "source": [
    "Let's consider that we have a system, $H$, which suffers decoherence via the quantum jump operators $\\{L_m\\}$ with rates $\\{\\gamma_m\\}$ in a purely Markovian manner, so that, the dynamics follows\n",
    "\\begin{align}\n",
    "\\dot{\\rho}=-i\\left[H,\\rho\\right]+\\sum_m \\gamma_m \\left(L_m \\rho L_m^\\dagger-\\frac{1}{2}\\left\\{L_m^\\dagger L_m,\\rho \\right\\}\\right).\n",
    "\\end{align}"
   ]
  },
  {
   "cell_type": "markdown",
   "metadata": {},
   "source": [
    "Although the previous equation can be numerically integrated, dealing with $\\rho$ involves $N^2$ elements (being $N$ the Hilbert dimension). One can nevertheless resort to a stochastic dynamics resorting to quantum trajectories which involve only a pure quantum state (dimension $N$). The price to pay is the computation of ensemble average over many stochastic repetitions. \n",
    "\n",
    "A quantum trajectory can be computed following a non-Hermitian Hamiltonian, \n",
    "\\begin{align}\n",
    "    H_{\\rm eff}=H-i\\sum_m\\frac{\\gamma_m}{2}L_m^\\dagger L_m\n",
    "\\end{align}\n",
    "The evolution under $H_{\\rm eff}$ does not preserve the state norm. During the evolution between $t\\rightarrow t+dt$  the state undergoes a quantum jump with probability\n",
    "\\begin{align}\n",
    "    P_m=\\gamma_m dt \\bra{\\psi(t)}L_m^\\dagger L_m\\ket{\\psi(t)}\n",
    "\\end{align}"
   ]
  },
  {
   "cell_type": "markdown",
   "metadata": {},
   "source": [
    "If the quantum jump takes place, then\n",
    "\\begin{align}\n",
    "    \\ket{\\psi(t+dt)}=\\frac{L_m\\ket{\\psi(t)}}{|| L_m\\ket{\\psi(t)}||},\n",
    "\\end{align}\n",
    "otherwise, the state evolves freely under $H_{\\rm eff}$,\n",
    "\\begin{align}\n",
    "    \\ket{\\psi(t+dt)}=\\frac{e^{-i dt H_{\\rm eff}}\\ket{\\psi(t)}}{||e^{-i dt H_{\\rm eff}}\\ket{\\psi(t)}||}.\n",
    "\\end{align}\n",
    "For each stochastic realization of a quantum trajectory, denoted by subscript $r$ we can compute the observable $A_r(t)=\\bra{\\psi_r(t)}A\\ket{\\psi_r(t)}$, so that\n",
    "\\begin{align}\n",
    "    \\overline{A}(t)=\\frac{1}{N_r}\\sum_{r=1}^{N_r}A_r(t)\n",
    "\\end{align}\n",
    "In the limit, $N_r\\rightarrow\\infty$, $\\overline{A}(t)={\\rm Tr}[\\rho(t) A]$ with $\\rho(t)$ obtained from Eq.~\\eqref{eq:ME}, and similarly for the state, $\\overline{\\rho}(t)=\\sum_{r=1}^{N_r}\\ket{\\psi_r(t)}\\bra{\\psi_r(t)}/N_r$, which leads to $\\overline{\\rho}(t)=\\rho(t)$ when $N_r\\rightarrow \\infty$. "
   ]
  },
  {
   "cell_type": "markdown",
   "metadata": {},
   "source": [
    "### Pseudocode"
   ]
  },
  {
   "cell_type": "markdown",
   "metadata": {},
   "source": [
    "The method is quite simple, but there are some subtleties. In order to properly solve the dynamics, we require $P_m\\leq 1$ and thus $\\gamma_m dt\\ll 1$. Follows the procedure to implement a quantum trajectory. \n",
    "\n",
    "- We start with the state $\\ket{\\psi(t)}$. \n",
    "- Throw a uniformly distributed random number $r\\in[0,1]$ for each of the decay channels ($r_m$) and compute $P_m=\\gamma_m dt \\bra{\\psi(0)}L_m^\\dagger L_m \\ket{\\psi(0)}$. \n",
    "- If $r_m<P_m$ then there is a quantum jump with $L_m$, so that $\\ket{\\psi(t+dt)}=L_m\\ket{\\psi(t)}$\n",
    "- Otherwise (no quantum jump), the state becomes $\\ket{\\psi(t+dt)}=e^{-i dt H_{\\rm eff}}\\ket{\\psi(dt)}$\n",
    "- Normalize the state. \n",
    "- Repeat now starting from $\\ket{\\psi(t+dt)}$ \n",
    "- Repeat the whole evolution $N_r$ times to get a reliable ensemble average\n"
   ]
  },
  {
   "cell_type": "markdown",
   "metadata": {},
   "source": [
    "## Toy model example"
   ]
  },
  {
   "cell_type": "markdown",
   "metadata": {},
   "source": [
    "Let's consider one simple example:\n",
    "\\begin{align}\n",
    "    H=\\sum_{i=1,2}\\frac{\\omega_i}{2}\\sigma^z_i+\\lambda \\left( \\sigma^+_ia+\\sigma^-_ia^\\dagger\\right)+\\omega_0 a^\\dagger a\n",
    "\\end{align}\n",
    "with decay channels $L_1=\\sigma_1^-$ and $L_2=\\sigma_2^-$. Hence, the effective non-Hermitian Hamiltonian is\n",
    "\\begin{align}\n",
    "    H_{\\rm eff}=H-i\\sum_{i=1,2}\\frac{\\gamma_i}{2}\\sigma^+_i\\sigma^-_i\n",
    "\\end{align}"
   ]
  },
  {
   "cell_type": "markdown",
   "metadata": {},
   "source": [
    "If we label the states $\\ket{0}\\ket{0}\\ket{0}$, $\\ket{1}\\ket{0}\\ket{0}$, $\\ket{0}\\ket{1}\\ket{0}$, $\\ket{0}\\ket{0}\\ket{1}$"
   ]
  },
  {
   "cell_type": "markdown",
   "metadata": {},
   "source": [
    "In this limit, H preserves the number of excitations, but it does not preserve the norm (is that possible?)"
   ]
  },
  {
   "cell_type": "markdown",
   "metadata": {
    "tags": []
   },
   "source": [
    "### Implementation of the toy model"
   ]
  },
  {
   "cell_type": "markdown",
   "metadata": {},
   "source": [
    "Instead of the cutre hard coded thing we have done, there is an alternative consisting on \n",
    "\n",
    "$$ \\text{Basis} = \\sigma_{z1} \\otimes I_2 \\otimes I_{\\text{N*N}} +   I_1 \\otimes \\sigma_{z2}  \\otimes I_{\\text{N*N}}  +   I_1 \\otimes  I_2  \\otimes a^{\\dagger}a_{\\text{N*N}}  $$"
   ]
  },
  {
   "cell_type": "markdown",
   "metadata": {},
   "source": [
    "First we have to define the small operators. And later we do the kroenecker products."
   ]
  },
  {
   "cell_type": "code",
   "execution_count": null,
   "metadata": {},
   "outputs": [],
   "source": [
    "def boson_creation(nmax, format='csr'):\n",
    "    ad = np.sqrt(np.arange(1., nmax))\n",
    "    if format == 'dense':\n",
    "        return np.diag(ad, -1)\n",
    "    else:\n",
    "        return sp.diags(ad, -1, format=format)\n",
    "\n",
    "def boson_anihilation(nmax, format='csr'):\n",
    "    a = np.sqrt(np.arange(1., nmax))\n",
    "    if format == 'dense':\n",
    "        return np.diag(a, +1)\n",
    "    else:\n",
    "        return sp.diags(a, +1, format=format)\n",
    "\n",
    "def boson_number(nmax, format='csr'):\n",
    "    n = np.arange(0., nmax)\n",
    "    if format == 'dense':\n",
    "        return np.diag(0, +1)\n",
    "    else:\n",
    "        return sp.diags(n, 0, format=format)"
   ]
  },
  {
   "cell_type": "code",
   "execution_count": null,
   "metadata": {},
   "outputs": [],
   "source": [
    "γ1 = 0.2\n",
    "γ2 = 0.1\n",
    "λ = 0.5\n",
    "ω_0 = 1\n",
    "ω_1 = 1\n",
    "ω_2 = 1\n",
    "Nbasis = 3\n",
    "σx = sp.csr_matrix([[0.0,1.0],[1.0,0.0]])\n",
    "σz = sp.csr_matrix([[1.0,0.0],[0.0,-1.0]])\n",
    "σy = sp.csr_matrix([[0.0,-1.j],[1.j,0.0]])\n",
    "σ_plus = sp.csr_matrix([[0.0, 1.0],[0.0, 0.0]])\n",
    "σ_minus = σ_plus.T\n",
    "σ_plus_minus = σ_plus@σ_minus\n",
    "\n",
    "a = boson_anihilation(Nbasis)\n",
    "adaga = boson_number(Nbasis)\n",
    "adagaT = sp.kron(sp.eye(4),adaga)"
   ]
  },
  {
   "cell_type": "code",
   "execution_count": null,
   "metadata": {},
   "outputs": [],
   "source": [
    "H0 = ω_1/2 * sp.kron(σz, sp.eye(2)) +  ω_2/2 * sp.kron(sp.eye(2), σz)\n",
    "H0 = sp.kron(H0, sp.eye(Nbasis)) + ω_0 * adagaT \n"
   ]
  },
  {
   "cell_type": "code",
   "execution_count": null,
   "metadata": {},
   "outputs": [],
   "source": [
    "Hint = λ * ( sp.kron( sp.kron(σ_plus, sp.eye(2)), a ) + sp.kron( sp.kron(sp.eye(2), σ_plus), a ) )\n",
    "Hint = Hint + Hint.T"
   ]
  },
  {
   "cell_type": "code",
   "execution_count": null,
   "metadata": {},
   "outputs": [],
   "source": [
    "H = H0 + Hint"
   ]
  },
  {
   "cell_type": "code",
   "execution_count": null,
   "metadata": {},
   "outputs": [],
   "source": [
    "Heff = H -1j*γ1*sp.kron(sp.kron(σ_plus_minus , sp.eye(2) ), sp.eye(Nbasis)   ) -1j*γ2*sp.kron(sp.kron( sp.eye(2), σ_plus_minus ), sp.eye(Nbasis)   ) "
   ]
  },
  {
   "cell_type": "code",
   "execution_count": null,
   "metadata": {},
   "outputs": [],
   "source": [
    "H = sp.csc_matrix(H)"
   ]
  },
  {
   "cell_type": "code",
   "execution_count": null,
   "metadata": {},
   "outputs": [],
   "source": [
    "psin = [1,0,0]\n",
    "ψ_init = np.kron(np.kron([1,0],[0,1]),psin)\n",
    "\n",
    "Cn1 = sp.kron(sp.kron(σ_plus_minus, sp.eye(2)) , sp.eye(Nbasis))\n",
    "Cn2 = sp.kron( sp.kron(sp.eye(2),σ_plus_minus) , sp.eye(Nbasis))\n",
    "              \n",
    "σ_minus1 = sp.kron( sp.kron(σ_minus, sp.eye(2)), sp.eye(Nbasis))\n",
    "σ_minus2 = sp.kron( sp.kron(sp.eye(2),σ_minus), sp.eye(Nbasis))\n",
    "              \n",
    "σz1 = sp.kron(sp.kron(σz, sp.eye(2)) , sp.eye(Nbasis))\n",
    "σz2 = sp.kron(sp.kron(sp.eye(2), σz)  ,sp.eye(Nbasis))"
   ]
  },
  {
   "cell_type": "code",
   "execution_count": null,
   "metadata": {},
   "outputs": [],
   "source": [
    "def quantum_trajectories(Heff, ψ_init, Duration = 10, timesteps =100):\n",
    "\n",
    "    time = np.linspace(0, Duration, timesteps)\n",
    "    dt = time[1]-time[0]\n",
    "    \n",
    "    ψ = ψ_init\n",
    "    \n",
    "    boson_number = []\n",
    "    Occupation_spin1 = []\n",
    "    Occupation_spin2 = []\n",
    "    \n",
    "    Ut = scipy.linalg.expm(-1j * Heff * dt) \n",
    "    \n",
    "    for t in time: \n",
    "\n",
    "        boson_number.append(  ψ.T.conjugate()@ (adagaT @ ψ) )\n",
    "\n",
    "        Occupation_spin1.append( ψ.T.conjugate()  @ (σz1 @ ψ) )\n",
    "        Occupation_spin2.append( ψ.T.conjugate() @  (σz2 @ ψ) )\n",
    "\n",
    "\n",
    "        P1_jump =  dt * γ1 * ( ψ.T.conjugate() @ (Cn1 @ ψ) ) \n",
    "        P2_jump =  dt * γ2 * ψ.T.conjugate() @ (Cn2 @ ψ)\n",
    "\n",
    "        if np.random.rand() <= P1_jump:\n",
    "            ψ = σ_minus1 @ ψ\n",
    "            ψ = ψ/np.sum(np.abs(ψ)**2)**0.5\n",
    "\n",
    "        elif np.random.rand() <= P2_jump:\n",
    "            ψ = σ_minus2 @ ψ\n",
    "            ψ = ψ/np.sum(np.abs(ψ)**2)**0.5\n",
    "\n",
    "        else:\n",
    "\n",
    "            ψ = Ut @ ψ\n",
    "\n",
    "\n",
    "            if (np.sum(np.abs(ψ)**2))**0.5 >= 1e-4:\n",
    "                \n",
    "                ψ = ψ/(np.sum(np.abs(ψ)**2))**0.5\n",
    "    \n",
    "    return np.real(boson_number), np.real(Occupation_spin1), np.real(Occupation_spin2), time"
   ]
  },
  {
   "cell_type": "code",
   "execution_count": null,
   "metadata": {},
   "outputs": [],
   "source": [
    "def ensembles(Heff, ψ_init, Nr = 20, Duration = 10, timesteps =100):\n",
    "    boson_number_mean = []\n",
    "    Occupation_spin1_mean = []\n",
    "    Occupation_spin2_mean = []\n",
    "    for i in range(Nr):\n",
    "        boson_number, Occupation_spin1, Occupation_spin2,_ =  quantum_trajectories(Heff = Heff, ψ_init = ψ_init, Duration = 10, timesteps =100)\n",
    "        boson_number_mean.append(boson_number)\n",
    "        Occupation_spin1_mean.append(Occupation_spin1)\n",
    "        Occupation_spin2_mean.append(Occupation_spin2)\n",
    "\n",
    "\n",
    "    boson_number_mean = np.sum(boson_number_mean, axis=0) / Nr\n",
    "    Occupation_spin1_mean = np.sum(Occupation_spin1_mean, axis=0) / Nr\n",
    "    Occupation_spin2_mean = np.sum(Occupation_spin2_mean, axis=0) / Nr\n",
    "\n",
    "    return boson_number_mean, Occupation_spin1_mean, Occupation_spin2_mean"
   ]
  },
  {
   "cell_type": "code",
   "execution_count": null,
   "metadata": {},
   "outputs": [],
   "source": [
    "ensembles1 = ensembles(Heff, ψ_init, Nr = 1)\n",
    "ensembles10 = ensembles(Heff, ψ_init, Nr = 10)\n",
    "ensembles1000 = ensembles(Heff, ψ_init, Nr = 1000)"
   ]
  },
  {
   "cell_type": "code",
   "execution_count": null,
   "metadata": {},
   "outputs": [],
   "source": [
    "fig, (ax1, ax2, ax3) = plt.subplots(nrows = 1, ncols = 3, figsize=(25,4))\n",
    "time = np.linspace(0, 10, 100)\n",
    "ax3.plot(time,ensembles1[0],':', label = '1 trajec')\n",
    "ax3.plot(time,ensembles10[0],'-.', label = '5 trajec')\n",
    "ax3.plot(time,ensembles1000[0], label = '1000 trajec')\n",
    "ax3.set_ylabel('$\\\\langle a^{\\dagger} a \\\\rangle$')\n",
    "ax3.set_xlabel('time')\n",
    "\n",
    "ax1.plot(time,ensembles1[1],':', label = '1 trajec')\n",
    "ax1.plot(time,ensembles10[1],'-.', label = '5 trajec')\n",
    "ax1.plot(time,ensembles1000[1], label = '1000 trajec')\n",
    "ax1.set_ylabel('$\\\\langle \\\\sigma^z_1 \\\\rangle$')\n",
    "ax1.set_xlabel('time')\n",
    "\n",
    "ax2.plot(time,ensembles1[2],':', label = '1 trajec')\n",
    "ax2.plot(time,ensembles10[2],'-.', label = '5 trajec')\n",
    "ax2.plot(time,ensembles1000[2], label = '1000 trajec')\n",
    "ax2.set_ylabel('$\\\\langle \\\\sigma^z_2 \\\\rangle$')\n",
    "ax2.set_xlabel('time')\n",
    "\n",
    "ax3.legend()"
   ]
  },
  {
   "cell_type": "markdown",
   "metadata": {
    "tags": []
   },
   "source": [
    "## Implementation in our physical setup"
   ]
  },
  {
   "cell_type": "markdown",
   "metadata": {
    "tags": []
   },
   "source": [
    "For that, we have to define a function which we will call \"quantum_trajectory_time_dependent_H\" that implements the evolution. This function substitutes the Trotter solver dynamics that had been used in the coherent case."
   ]
  },
  {
   "cell_type": "code",
   "execution_count": null,
   "metadata": {},
   "outputs": [],
   "source": [
    "def quantum_trajectory_time_dependent_H(control, ψ, duration, timesteps, γ1 = 1/12e3):\n",
    "\n",
    "    time = np.linspace(-duration/2, duration/2, timesteps)\n",
    "    \n",
    "    ψt = [ψ]\n",
    "    \n",
    "    σ1_minus = erase(0, control.Basis)  # We construct the σ⁻ operator with our logic of conctenating bases\n",
    "    σ1_plus = σ1_minus.T\n",
    "    σ1_plus_minus = σ1_plus @ σ1_minus  # We define σ⁺σ⁻ which enters the P_jump and the H_eff\n",
    "    \n",
    "    last_t = time[0]\n",
    "        \n",
    "    for t in time[1:]: \n",
    "        \n",
    "        dt = t - last_t\n",
    "        \n",
    "        P1_jump =  dt * γ1 * ( ψ.T.conjugate() @ (σ1_plus_minus @  ψ ) )  # Calculate the jump probability. Expected value of σ⁺σ⁻ times decay constant\n",
    "        \n",
    "        random = np.random.rand()\n",
    "        \n",
    "        if random <= P1_jump:  # If some random number is smaller than P1_jump, then proceed with the jump.\n",
    "            \n",
    "            print('QUANTUM JUMP at time =', t+duration/2)\n",
    "            \n",
    "            ψ = σ1_minus @ ψ  \n",
    "            ψ = ψ/np.sum(np.abs(ψ)**2)**0.5  \n",
    "            ψt.append(ψ)\n",
    " \n",
    "        else:  # If no jump occurs, evolve the state under Heff.\n",
    "\n",
    "            ψ = sp.linalg.expm_multiply((-1j*dt) * (control.Hamiltonian(t) - 1j * γ1/2 * σ1_plus_minus) , ψ)\n",
    "            \n",
    "            ψ = ψ/(np.sum(np.abs(ψ)**2))**0.5\n",
    "            ψt.append(ψ)\n",
    "            \n",
    "        last_t = t\n",
    "        \n",
    "    return np.array(ψt).T #, np.real(boson_number), np.real(Occupation_spin1), np.real(Occupation_spin2), time"
   ]
  },
  {
   "cell_type": "markdown",
   "metadata": {
    "tags": []
   },
   "source": [
    "### Qubit T1"
   ]
  },
  {
   "cell_type": "markdown",
   "metadata": {},
   "source": [
    "A check of weather the routines we are implementing to construct the hamiltonian and evolving it work in the many body simulation is to place an excitation in the qubit, isolated from everything else and let it evolve there. If everyting is well calibrated this should mimic an exponential decay $$e^{-\\tau/T_1}, $$ with $T_1$ the decoherence time of the qubit. In our case $$T_1 = 12 \\mu s. $$"
   ]
  },
  {
   "cell_type": "code",
   "execution_count": 6,
   "metadata": {},
   "outputs": [],
   "source": [
    "''' Include vacuum  '''\n",
    "Probe =  Exp_2qubits_2cavities_2purcells(δ1=2*π*8.40701933547913, δ2=2*π*8.40701933547913, g1=lambda t:0, g2=lambda t:0,\n",
    "                                            ω1=2*π*8.40701933547913, ω2=2*π*8.407019335479,\n",
    "                                            κ1 = 2*π*130e-3, κ2 = 2*π*130e-3, Nexcitations = 1, Up_to_Nexcitations = 1)"
   ]
  },
  {
   "cell_type": "code",
   "execution_count": null,
   "metadata": {
    "scrolled": true,
    "tags": []
   },
   "outputs": [],
   "source": [
    "ψ_init = np.zeros(len(Probe.Basis))\n",
    "ψ_init[1] = 1\n",
    "ψt = [quantum_trajectory_time_dependent_H(Probe, ψ_init, duration = 2000, timesteps =1000, γ1 = 1/12e3*10) for i in range(30)]"
   ]
  },
  {
   "cell_type": "code",
   "execution_count": null,
   "metadata": {},
   "outputs": [],
   "source": [
    "P = np.abs(ψt)**2\n",
    "time=np.linspace(0, 2000, 1000)\n",
    "T1 = 12e3 \n",
    "fig, ax = plt.subplots()\n",
    "plt.plot(time, np.sum(P, axis = 0)[1,:]/(30), label = 'Approxiamtion with 30 Traject')\n",
    "plt.plot(time, np.exp(-time/T1*10))\n",
    "plt.ylabel('$|q_1(t)|^2$')\n",
    "plt.xlabel('t (ns)')\n",
    "plt.legend()\n",
    "plt.show()"
   ]
  },
  {
   "cell_type": "code",
   "execution_count": null,
   "metadata": {},
   "outputs": [],
   "source": [
    "# from joblib import delayed, Parallel, parallel_backend\n",
    "\n",
    "# with parallel_backend('loky', n_jobs=36):\n",
    "#     ψ_init = np.zeros(len(Probe.Basis))\n",
    "#     ψ_init[1] = 1\n",
    "#     ψt = Parallel()(delayed(quantum_trajectory_time_dependent_H)(Probe, ψ_init, duration = 200, timesteps =1000 ,\n",
    "#                                                                 g1=lambda t:0,g2=lambda t:0,\n",
    "#                                                                  γ1 = 1/12e3*10) for i in range(36) )\n"
   ]
  },
  {
   "cell_type": "markdown",
   "metadata": {},
   "source": [
    "### Reabsorption protocol with quantum trajectories"
   ]
  },
  {
   "cell_type": "markdown",
   "metadata": {},
   "source": [
    "Our idea is to replicate the results obtained by integration over the time the qubit was excited. This way we define the GOAL NUMBER, \n",
    "$$ \\text{GOAL NUMBER} = |q_1(T)|^2 e^{-\\tau/T_1} = 0.9822, $$\n",
    "for a value of the decoherence time of $T_1 = 12 \\mu s. $\n",
    "\n",
    "The goal number was obtained by coherent evolution multiplied by the exponential decay, the objective is to replicate that number by averaging over different realizations by means of the Q-trajectories method."
   ]
  },
  {
   "cell_type": "code",
   "execution_count": 8,
   "metadata": {},
   "outputs": [],
   "source": [
    "def Bounce_and_reabsorb_trajectory(lamb_shift = (0.0229) * (2*π)*19.231e-3, δ1=2*π*8.40701933547913, δ2=2*π*8.40701933547913,\n",
    "                   ω1=2*π*8.40701933547913, ω2=2*π*8.40701933547913,  g_p=2*π*25e-3,\n",
    "                    κ1 = 2*π*130e-3, κ2 = 2*π*130e-3, η = 1, Tfp = 5, N_trips = 2, Nt=200,\n",
    "                        length=30, modes=2101, Nexcitations = 1, extradelay = -3.3, quiet = False):\n",
    "    \n",
    "    kappa = κ1\n",
    "    \n",
    "    WG =  Waveguide( frequency= ω1+lamb_shift, modes = modes, length = length )\n",
    "\n",
    "    κ_eff = 4 * g_p**2 / kappa \n",
    "    \n",
    "    N_bounces = N_trips-1\n",
    "    \n",
    "    tdelay = N_trips * WG.tprop  +  N_bounces * 4 * (η/κ_eff)  + extradelay\n",
    "\n",
    "    duration = tdelay + Tfp*4*(η/κ_eff)\n",
    "    \n",
    "    time = np.linspace(-duration/2, duration/2, Nt)\n",
    "\n",
    "    def gtsym_sech(t):\n",
    "        return gt_sech(t+tdelay/2.0, κ_eff) * (t <= 0) + gt_sech(tdelay/2.0 - t, κ_eff) * (t > 0)\n",
    "\n",
    "    control = Exp_2qubits_2cavities_2purcells(δ1 = δ1, δ2 = δ2, ω1 = ω1, ω2 = ω2, g1=gtsym_sech, g2=0,  \n",
    "                                                 gp1=g_p, gp2=g_p, κ1=κ1, κ2=κ2, \n",
    "                                             δLamb = lamb_shift, waveguide=WG, Nexcitations = Nexcitations, Up_to_Nexcitations = Nexcitations)\n",
    "\n",
    "    ψ = np.zeros(len(control.Basis))\n",
    "    ψ[1] = 1\n",
    "\n",
    "    vt2 = quantum_trajectory_time_dependent_H(control, ψ, duration = duration, timesteps = Nt)\n",
    "    \n",
    "                \n",
    "    ψ = vt2[:,-1]\n",
    "    P = np.abs(vt2)**2\n",
    "\n",
    "    q1end =np.abs(ψ[1])**2\n",
    "    k = np.trapz(np.abs(vt2[0,:]**2), x = time)\n",
    "    \n",
    "    if not quiet:\n",
    "        print('tdelay = ',tdelay,'(ns), of which,', extradelay,'is extra')\n",
    "        print('Duration = ', duration, '(ns)')\n",
    "        print(f'Initial value of the control g_1(-tf)= (2π)*{gtsym_sech(time[0])/2/π*1e3}MHz')\n",
    "        # print(f'Time spent in qubit = {k} (ns)\\n')\n",
    "\n",
    "        Pwaveguide = np.sum(P[6+1:,:],0)\n",
    "        print(f'|q_1(tf)|^2 = {P[0+1,-1]}\\n'\n",
    "              f'|c_1(tf)|^2 = {P[2+1,-1]}\\n'\n",
    "              f'|Purcell_1(tf)|^2 = {P[4+1,-1]}\\n'\n",
    "              f'|wv(tf)|^2  = {Pwaveguide[-1]} (max = {max(Pwaveguide)})\\n'\n",
    "              f'|Purcell_2(tf)|^2 = {P[5+1,-1]}\\n'  \n",
    "              f'|c_2(tf)|^2 = {P[3+1,-1]}\\n'\n",
    "              f'|q_2(tf)|^2 = {P[1+1,-1]}')\n",
    "              # f' 1-F        = {1-P[1,-1]}')\n",
    "\n",
    "        Pwaveguide = np.sum(P[6+1:,:],0)\n",
    "        fig, (ax) = plt.subplots( figsize=(10,3.5), sharex=True)\n",
    "        ax.plot(time, P[0+1 ,:], label='qubit 1')\n",
    "        ax.plot(time, P[2+1,:], '--', label='cavity 1')\n",
    "        ax.plot(time, P[4+1,:], '--', label='Purcell 1')\n",
    "\n",
    "        ax.plot(time, Pwaveguide, '-.', label='waveguide')\n",
    "\n",
    "        ax.plot(time, P[5+1,:], '--', label='Purcell 2')\n",
    "        ax.plot(time, P[3+1,:], '--', label='cavity 2')\n",
    "\n",
    "        ax.legend()\n",
    "        fig.tight_layout()\n",
    "        plt.show()\n",
    "    \n",
    "    g0 = gtsym_sech(time[0])/2/π*1e3\n",
    "\n",
    "    return q1end#, time, g0, k, duration, P"
   ]
  },
  {
   "cell_type": "code",
   "execution_count": 9,
   "metadata": {},
   "outputs": [],
   "source": [
    "def gt_sech(t, κ):\n",
    "    \n",
    "    return κ / 2 / np.cosh(κ*t/2)"
   ]
  },
  {
   "cell_type": "code",
   "execution_count": null,
   "metadata": {},
   "outputs": [],
   "source": [
    "with parallel_backend('loky', n_jobs=36):\n",
    "    Bounce_and_back = Parallel()(delayed(Bounce_and_reabsorb_trajectory)(extradelay = -3.3, Tfp = 5.2, Nm=1101,\n",
    "                                                                         Nt=1000, quiet = True) for i in range(36*20) )\n"
   ]
  },
  {
   "cell_type": "code",
   "execution_count": null,
   "metadata": {},
   "outputs": [],
   "source": [
    "Duration =  520.3496356160991 (ns)\n",
    "#Initial value of the control g_1(-tf)= (2π)*0.11064634090648054MHz\n",
    "τ = 151.9227183160247"
   ]
  },
  {
   "cell_type": "code",
   "execution_count": null,
   "metadata": {},
   "outputs": [],
   "source": [
    "T1 = 12e3 \n",
    "Protocol_time_eta_1 = 520.12265222192\n",
    "τ = 151.9227183160247\n",
    "Q2_end = 0.99419\n",
    "GOAL_NUMBER = 0.99419 * np.exp(-τ/T1)\n",
    "fix, ax1 = plt.subplots()\n",
    "ax1.plot(Protocol_time_eta_1, Q2_end,'o',  label='Ideal')\n",
    "ax1.plot(Protocol_time_eta_1, GOAL_NUMBER,'o', label='Decoherence. $T_1 = 12 \\mu s.$')\n",
    "ax1.plot(Protocol_time_eta_1, np.sum(Bounce_and_back, axis = 0)/(36*20),'o',label='720 Quantum trajectories')\n",
    "ax1.set_ylabel('$|q_1(t)|^2$')\n",
    "ax1.set_xlabel('t (ns)')\n",
    "\n",
    "ax1.legend()\n",
    "plt.show()"
   ]
  },
  {
   "cell_type": "code",
   "execution_count": null,
   "metadata": {},
   "outputs": [],
   "source": [
    "print('Coherent evolution = ', np.round(Q2_end,4))\n",
    "print('Decoherence with T_1 = ', np.round(GOAL_NUMBER,4))\n",
    "print('Average over',36*20,'quantum trajectories = ', np.round(np.sum(Bounce_and_back, axis = 0)/(36*20),4))\n",
    "#Coherent evolution =  0.9942\n",
    "#Decoherence with T_1 =  0.9817\n",
    "#Average over 720 quantum trajectories =  0.9818\n"
   ]
  },
  {
   "cell_type": "code",
   "execution_count": null,
   "metadata": {},
   "outputs": [],
   "source": []
  }
 ],
 "metadata": {
  "interpreter": {
   "hash": "df0893f56f349688326838aaeea0de204df53a132722cbd565e54b24a8fec5f6"
  },
  "kernelspec": {
   "display_name": "Python 3",
   "language": "python",
   "name": "python3"
  },
  "language_info": {
   "codemirror_mode": {
    "name": "ipython",
    "version": 3
   },
   "file_extension": ".py",
   "mimetype": "text/x-python",
   "name": "python",
   "nbconvert_exporter": "python",
   "pygments_lexer": "ipython3",
   "version": "3.8.10"
  }
 },
 "nbformat": 4,
 "nbformat_minor": 4
}
